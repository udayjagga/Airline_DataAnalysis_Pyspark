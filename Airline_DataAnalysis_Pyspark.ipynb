{
  "nbformat": 4,
  "nbformat_minor": 0,
  "metadata": {
    "colab": {
      "name": "J Uday Bhaskar_Pyspark_W26.ipynb",
      "provenance": [],
      "collapsed_sections": []
    },
    "kernelspec": {
      "name": "python3",
      "display_name": "Python 3"
    },
    "language_info": {
      "name": "python"
    }
  },
  "cells": [
    {
      "cell_type": "markdown",
      "source": [
        "# PySpark"
      ],
      "metadata": {
        "id": "Yqfh8bhFQYq4"
      }
    },
    {
      "cell_type": "markdown",
      "source": [
        "## Installing the required Pyspark library"
      ],
      "metadata": {
        "id": "G0bi9DjYQ5Wl"
      }
    },
    {
      "cell_type": "code",
      "execution_count": null,
      "metadata": {
        "colab": {
          "base_uri": "https://localhost:8080/"
        },
        "id": "zhnqBIG-QLPN",
        "outputId": "cd94d1b3-a59c-4071-fe0b-0988a4551e5c"
      },
      "outputs": [
        {
          "output_type": "stream",
          "name": "stdout",
          "text": [
            "Collecting pyspark\n",
            "  Downloading pyspark-3.2.1.tar.gz (281.4 MB)\n",
            "\u001b[K     |████████████████████████████████| 281.4 MB 30 kB/s \n",
            "\u001b[?25hCollecting py4j==0.10.9.3\n",
            "  Downloading py4j-0.10.9.3-py2.py3-none-any.whl (198 kB)\n",
            "\u001b[K     |████████████████████████████████| 198 kB 13.8 MB/s \n",
            "\u001b[?25hBuilding wheels for collected packages: pyspark\n",
            "  Building wheel for pyspark (setup.py) ... \u001b[?25l\u001b[?25hdone\n",
            "  Created wheel for pyspark: filename=pyspark-3.2.1-py2.py3-none-any.whl size=281853642 sha256=c6461bb73a4383dfa89675153b7222c38ef721031e4f6db29493c98bcd58128c\n",
            "  Stored in directory: /root/.cache/pip/wheels/9f/f5/07/7cd8017084dce4e93e84e92efd1e1d5334db05f2e83bcef74f\n",
            "Successfully built pyspark\n",
            "Installing collected packages: py4j, pyspark\n",
            "Successfully installed py4j-0.10.9.3 pyspark-3.2.1\n"
          ]
        }
      ],
      "source": [
        "!pip install pyspark"
      ]
    },
    {
      "cell_type": "code",
      "source": [
        "#Initializing PySpark\n",
        "from pyspark import SparkContext, SparkConf\n",
        "from pyspark.sql import SparkSession\n",
        "from pyspark.sql import SQLContext\n",
        "\n",
        "# #Spark Config\n",
        "conf = SparkConf().setAppName(\"AirLine_app\")\n",
        "sc = SparkContext(conf=conf)\n",
        "spark = SparkSession.builder.appName('Air Line data Analysis').getOrCreate()\n",
        "sqlContext = SQLContext(sc)"
      ],
      "metadata": {
        "colab": {
          "base_uri": "https://localhost:8080/"
        },
        "id": "QQQ-jW5mQn4u",
        "outputId": "99df0900-70c7-479c-e078-28a1ab8ac635"
      },
      "execution_count": null,
      "outputs": [
        {
          "output_type": "stream",
          "name": "stderr",
          "text": [
            "/usr/local/lib/python3.7/dist-packages/pyspark/sql/context.py:79: FutureWarning: Deprecated in 3.0.0. Use SparkSession.builder.getOrCreate() instead.\n",
            "  FutureWarning\n"
          ]
        }
      ]
    },
    {
      "cell_type": "markdown",
      "source": [
        "## Reading the CSV file into Data Frame"
      ],
      "metadata": {
        "id": "JCwKxIJdRT0R"
      }
    },
    {
      "cell_type": "code",
      "source": [
        "# Reading the csv file into airline_df data frame\n",
        "airline_df = spark.read.format(\"csv\").option(\"header\", \"true\").option(\"inferSchema\",\"true\").load(\"/content/Airline_data.csv\")\n"
      ],
      "metadata": {
        "id": "Y6Ti67ZLRJ_w"
      },
      "execution_count": null,
      "outputs": []
    },
    {
      "cell_type": "markdown",
      "source": [
        "### 1. Show a sample of 5 records from dataset."
      ],
      "metadata": {
        "id": "JyzB1RDzSMW1"
      }
    },
    {
      "cell_type": "code",
      "source": [
        "# printing 5 records from data frame\n",
        "airline_df.show(5)"
      ],
      "metadata": {
        "colab": {
          "base_uri": "https://localhost:8080/"
        },
        "id": "063LIYj6R19m",
        "outputId": "81929768-60e4-45cf-9252-f012cfee92a5"
      },
      "execution_count": null,
      "outputs": [
        {
          "output_type": "stream",
          "name": "stdout",
          "text": [
            "+----+-----+----------+---------+-------+----------+-------+----------+-------------+---------+-------+-----------------+--------------+-------+--------+--------+------+----+--------+------+-------+---------+----------------+--------+------------+------------+--------+-------------+-----------------+\n",
            "|Year|Month|DayofMonth|DayOfWeek|DepTime|CRSDepTime|ArrTime|CRSArrTime|UniqueCarrier|FlightNum|TailNum|ActualElapsedTime|CRSElapsedTime|AirTime|ArrDelay|DepDelay|Origin|Dest|Distance|TaxiIn|TaxiOut|Cancelled|CancellationCode|Diverted|CarrierDelay|WeatherDelay|NASDelay|SecurityDelay|LateAircraftDelay|\n",
            "+----+-----+----------+---------+-------+----------+-------+----------+-------------+---------+-------+-----------------+--------------+-------+--------+--------+------+----+--------+------+-------+---------+----------------+--------+------------+------------+--------+-------------+-----------------+\n",
            "|1989|    1|        23|        1|   1419|      1230|   1742|      1552|           UA|      183|     NA|              323|           322|     NA|     110|     109|   SFO| HNL|    2398|    NA|     NA|        0|              NA|       0|          NA|          NA|      NA|           NA|               NA|\n",
            "|1989|    1|        24|        2|   1255|      1230|   1612|      1552|           UA|      183|     NA|              317|           322|     NA|      20|      25|   SFO| HNL|    2398|    NA|     NA|        0|              NA|       0|          NA|          NA|      NA|           NA|               NA|\n",
            "|1989|    1|        25|        3|   1230|      1230|   1533|      1552|           UA|      183|     NA|              303|           322|     NA|     -19|       0|   SFO| HNL|    2398|    NA|     NA|        0|              NA|       0|          NA|          NA|      NA|           NA|               NA|\n",
            "|1989|    1|        26|        4|   1230|      1230|   1523|      1552|           UA|      183|     NA|              293|           322|     NA|     -29|       0|   SFO| HNL|    2398|    NA|     NA|        0|              NA|       0|          NA|          NA|      NA|           NA|               NA|\n",
            "|1989|    1|        27|        5|   1232|      1230|   1513|      1552|           UA|      183|     NA|              281|           322|     NA|     -39|       2|   SFO| HNL|    2398|    NA|     NA|        0|              NA|       0|          NA|          NA|      NA|           NA|               NA|\n",
            "+----+-----+----------+---------+-------+----------+-------+----------+-------------+---------+-------+-----------------+--------------+-------+--------+--------+------+----+--------+------+-------+---------+----------------+--------+------------+------------+--------+-------------+-----------------+\n",
            "only showing top 5 rows\n",
            "\n"
          ]
        }
      ]
    },
    {
      "cell_type": "markdown",
      "source": [
        "### 2. Read the data with data types."
      ],
      "metadata": {
        "id": "0vgm9MtxSh4y"
      }
    },
    {
      "cell_type": "code",
      "source": [
        "# printing the datatypes of columns\n",
        "airline_df.printSchema()"
      ],
      "metadata": {
        "colab": {
          "base_uri": "https://localhost:8080/"
        },
        "id": "yQR6gM9RSVs8",
        "outputId": "ed889c2a-eb6e-41bb-b8ee-e1010bd12801"
      },
      "execution_count": null,
      "outputs": [
        {
          "output_type": "stream",
          "name": "stdout",
          "text": [
            "root\n",
            " |-- Year: integer (nullable = true)\n",
            " |-- Month: integer (nullable = true)\n",
            " |-- DayofMonth: integer (nullable = true)\n",
            " |-- DayOfWeek: integer (nullable = true)\n",
            " |-- DepTime: integer (nullable = true)\n",
            " |-- CRSDepTime: integer (nullable = true)\n",
            " |-- ArrTime: integer (nullable = true)\n",
            " |-- CRSArrTime: integer (nullable = true)\n",
            " |-- UniqueCarrier: string (nullable = true)\n",
            " |-- FlightNum: integer (nullable = true)\n",
            " |-- TailNum: string (nullable = true)\n",
            " |-- ActualElapsedTime: integer (nullable = true)\n",
            " |-- CRSElapsedTime: integer (nullable = true)\n",
            " |-- AirTime: string (nullable = true)\n",
            " |-- ArrDelay: integer (nullable = true)\n",
            " |-- DepDelay: integer (nullable = true)\n",
            " |-- Origin: string (nullable = true)\n",
            " |-- Dest: string (nullable = true)\n",
            " |-- Distance: integer (nullable = true)\n",
            " |-- TaxiIn: string (nullable = true)\n",
            " |-- TaxiOut: string (nullable = true)\n",
            " |-- Cancelled: integer (nullable = true)\n",
            " |-- CancellationCode: string (nullable = true)\n",
            " |-- Diverted: integer (nullable = true)\n",
            " |-- CarrierDelay: string (nullable = true)\n",
            " |-- WeatherDelay: string (nullable = true)\n",
            " |-- NASDelay: string (nullable = true)\n",
            " |-- SecurityDelay: string (nullable = true)\n",
            " |-- LateAircraftDelay: string (nullable = true)\n",
            "\n"
          ]
        }
      ]
    },
    {
      "cell_type": "markdown",
      "source": [
        "### 3. Make a new column MonthStr, Which has months in form of 01, 02, 03, ..., 12."
      ],
      "metadata": {
        "id": "xIRyJAb0TOb2"
      }
    },
    {
      "cell_type": "code",
      "source": [
        "# importing the required libraries\n",
        "from pyspark.sql.functions import udf,col\n",
        "from pyspark.sql.types import StringType\n",
        "\n",
        "\n",
        "d = {}  # empty list\n",
        "# Changing the data type of 'Month' column to string\n",
        "df1 = airline_df.withColumn(\"Month\",airline_df[\"Month\"].cast(StringType()))\n",
        "for i in df1.collect():\n",
        "  d[i['Month']] = '0'+i['Month']\n",
        "\n",
        "def monthstr(Month):\n",
        "  return str(d.get(Month))\n",
        "# creating the udf\n",
        "a = udf(monthstr)\n",
        "df1 = df1.withColumn(\"MonthStr\",a(col('Month')))   # passing the Month column\n",
        "df1.show(10) "
      ],
      "metadata": {
        "colab": {
          "base_uri": "https://localhost:8080/"
        },
        "id": "-GdkGmVxSn4A",
        "outputId": "af526e11-5713-42f8-bea5-835f2e015084"
      },
      "execution_count": null,
      "outputs": [
        {
          "output_type": "stream",
          "name": "stdout",
          "text": [
            "+----+-----+----------+---------+-------+----------+-------+----------+-------------+---------+-------+-----------------+--------------+-------+--------+--------+------+----+--------+------+-------+---------+----------------+--------+------------+------------+--------+-------------+-----------------+--------+\n",
            "|Year|Month|DayofMonth|DayOfWeek|DepTime|CRSDepTime|ArrTime|CRSArrTime|UniqueCarrier|FlightNum|TailNum|ActualElapsedTime|CRSElapsedTime|AirTime|ArrDelay|DepDelay|Origin|Dest|Distance|TaxiIn|TaxiOut|Cancelled|CancellationCode|Diverted|CarrierDelay|WeatherDelay|NASDelay|SecurityDelay|LateAircraftDelay|MonthStr|\n",
            "+----+-----+----------+---------+-------+----------+-------+----------+-------------+---------+-------+-----------------+--------------+-------+--------+--------+------+----+--------+------+-------+---------+----------------+--------+------------+------------+--------+-------------+-----------------+--------+\n",
            "|1989|    1|        23|        1|   1419|      1230|   1742|      1552|           UA|      183|     NA|              323|           322|     NA|     110|     109|   SFO| HNL|    2398|    NA|     NA|        0|              NA|       0|          NA|          NA|      NA|           NA|               NA|      01|\n",
            "|1989|    1|        24|        2|   1255|      1230|   1612|      1552|           UA|      183|     NA|              317|           322|     NA|      20|      25|   SFO| HNL|    2398|    NA|     NA|        0|              NA|       0|          NA|          NA|      NA|           NA|               NA|      01|\n",
            "|1989|    1|        25|        3|   1230|      1230|   1533|      1552|           UA|      183|     NA|              303|           322|     NA|     -19|       0|   SFO| HNL|    2398|    NA|     NA|        0|              NA|       0|          NA|          NA|      NA|           NA|               NA|      01|\n",
            "|1989|    1|        26|        4|   1230|      1230|   1523|      1552|           UA|      183|     NA|              293|           322|     NA|     -29|       0|   SFO| HNL|    2398|    NA|     NA|        0|              NA|       0|          NA|          NA|      NA|           NA|               NA|      01|\n",
            "|1989|    1|        27|        5|   1232|      1230|   1513|      1552|           UA|      183|     NA|              281|           322|     NA|     -39|       2|   SFO| HNL|    2398|    NA|     NA|        0|              NA|       0|          NA|          NA|      NA|           NA|               NA|      01|\n",
            "|1989|    1|        28|        6|   1228|      1230|   1550|      1552|           UA|      183|     NA|              322|           322|     NA|      -2|      -2|   SFO| HNL|    2398|    NA|     NA|        0|              NA|       0|          NA|          NA|      NA|           NA|               NA|      01|\n",
            "|1989|    1|        29|        7|   1639|      1230|   1942|      1552|           UA|      183|     NA|              303|           322|     NA|     230|     249|   SFO| HNL|    2398|    NA|     NA|        0|              NA|       0|          NA|          NA|      NA|           NA|               NA|      01|\n",
            "|1989|    1|        30|        1|   1231|      1230|   1531|      1552|           UA|      183|     NA|              300|           322|     NA|     -21|       1|   SFO| HNL|    2398|    NA|     NA|        0|              NA|       0|          NA|          NA|      NA|           NA|               NA|      01|\n",
            "|1989|    1|        31|        2|   1405|      1230|   1827|      1552|           UA|      183|     NA|              382|           322|     NA|     155|      95|   SFO| HNL|    2398|    NA|     NA|        0|              NA|       0|          NA|          NA|      NA|           NA|               NA|      01|\n",
            "|1989|    1|         2|        1|   1057|      1045|   1537|      1554|           UA|      184|     NA|              160|           189|     NA|     -17|      12|   DEN| IAD|    1452|    NA|     NA|        0|              NA|       0|          NA|          NA|      NA|           NA|               NA|      01|\n",
            "+----+-----+----------+---------+-------+----------+-------+----------+-------------+---------+-------+-----------------+--------------+-------+--------+--------+------+----+--------+------+-------+---------+----------------+--------+------------+------------+--------+-------------+-----------------+--------+\n",
            "only showing top 10 rows\n",
            "\n"
          ]
        }
      ]
    },
    {
      "cell_type": "markdown",
      "source": [
        "**In above data frame we can see 'MonthStr' column at the last**\n",
        "\n"
      ],
      "metadata": {
        "id": "SLr7tnVtcuew"
      }
    },
    {
      "cell_type": "markdown",
      "source": [
        "### 4. Find the # of flights each airline made."
      ],
      "metadata": {
        "id": "y1yEpijN4Hzs"
      }
    },
    {
      "cell_type": "code",
      "source": [
        "# grouping by the UniqueCarrier\n",
        "n = airline_df.groupBy('UniqueCarrier').count()\n",
        "n.show()"
      ],
      "metadata": {
        "colab": {
          "base_uri": "https://localhost:8080/"
        },
        "id": "20L-Zr502d5r",
        "outputId": "a8e3ca15-7e03-4f9e-f247-88aef05ab8ab"
      },
      "execution_count": null,
      "outputs": [
        {
          "output_type": "stream",
          "name": "stdout",
          "text": [
            "+-------------+-----+\n",
            "|UniqueCarrier|count|\n",
            "+-------------+-----+\n",
            "|           UA|  426|\n",
            "+-------------+-----+\n",
            "\n"
          ]
        }
      ]
    },
    {
      "cell_type": "markdown",
      "source": [
        "### 5. Find the mean Arrival Delay per origination airport."
      ],
      "metadata": {
        "id": "pIdQ7-bhAta9"
      }
    },
    {
      "cell_type": "code",
      "source": [
        "# Grouping by the Origin and finding the average of Arrival Delay\n",
        "arrivalDelay_mean = airline_df.groupBy('Origin').mean('ArrDelay').withColumnRenamed('avg(ArrDelay)','Average of Arrival Delay')\n",
        "arrivalDelay_mean.show()"
      ],
      "metadata": {
        "colab": {
          "base_uri": "https://localhost:8080/"
        },
        "id": "SqJOIL4y5YvI",
        "outputId": "df297efd-e739-4873-dbac-ade290a83eb7"
      },
      "execution_count": null,
      "outputs": [
        {
          "output_type": "stream",
          "name": "stdout",
          "text": [
            "+------+------------------------+\n",
            "|Origin|Average of Arrival Delay|\n",
            "+------+------------------------+\n",
            "|   LIH|     0.16666666666666666|\n",
            "|   HNL|       14.21774193548387|\n",
            "|   EWR|                    9.25|\n",
            "|   DEN|      20.166666666666668|\n",
            "|   IAD|      12.966666666666667|\n",
            "|   SFO|      11.215384615384615|\n",
            "|   PHL|       6.827586206896552|\n",
            "|   OGG|       16.24137931034483|\n",
            "+------+------------------------+\n",
            "\n"
          ]
        }
      ]
    },
    {
      "cell_type": "markdown",
      "source": [
        "In the above output, there are Average of Arrival Delay for each Oigin"
      ],
      "metadata": {
        "id": "-jwUeO6Adllg"
      }
    },
    {
      "cell_type": "markdown",
      "source": [
        "### 6. What is the average departure delay from each airport?"
      ],
      "metadata": {
        "id": "rquSTlEVBmIK"
      }
    },
    {
      "cell_type": "code",
      "source": [
        "# Grouping by the Origin and finding the average of departure delay\n",
        "departureDelay_mean = airline_df.groupBy('Origin').mean('DepDelay').withColumnRenamed('avg(DepDelay)','Average of Departure Delay')\n",
        "departureDelay_mean.show()"
      ],
      "metadata": {
        "colab": {
          "base_uri": "https://localhost:8080/"
        },
        "id": "4ZGw5ZssBNsx",
        "outputId": "f5c4d91c-7907-4a31-a558-633b73db10ed"
      },
      "execution_count": null,
      "outputs": [
        {
          "output_type": "stream",
          "name": "stdout",
          "text": [
            "+------+--------------------------+\n",
            "|Origin|Average of Departure Delay|\n",
            "+------+--------------------------+\n",
            "|   LIH|       -3.7666666666666666|\n",
            "|   HNL|         3.217741935483871|\n",
            "|   EWR|         4.958333333333333|\n",
            "|   DEN|                      27.6|\n",
            "|   IAD|                       8.9|\n",
            "|   SFO|        19.646153846153847|\n",
            "|   PHL|        16.137931034482758|\n",
            "|   OGG|                       6.0|\n",
            "+------+--------------------------+\n",
            "\n"
          ]
        }
      ]
    },
    {
      "cell_type": "markdown",
      "source": [
        "In the above output, there are Average of Depature Delay for each Oigin"
      ],
      "metadata": {
        "id": "z59CPQnMd2nZ"
      }
    },
    {
      "cell_type": "code",
      "source": [
        ""
      ],
      "metadata": {
        "id": "zXfd1pSjDIsW"
      },
      "execution_count": null,
      "outputs": []
    }
  ]
}